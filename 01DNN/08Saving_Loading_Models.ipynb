{
 "cells": [
  {
   "cell_type": "markdown",
   "metadata": {
    "id": "k7sePAkWpLJV"
   },
   "source": [
    "# Saving and Loading Models\n",
    "\n",
    "TensorFlow에서 모형을 저장하고 불러오는 방법을 알아본다."
   ]
  },
  {
   "cell_type": "markdown",
   "metadata": {
    "id": "tD856SqhH4JK"
   },
   "source": [
    "## Import Resources"
   ]
  },
  {
   "cell_type": "code",
   "execution_count": 1,
   "metadata": {
    "id": "DrJjfWzzi_hA"
   },
   "outputs": [],
   "source": [
    "import warnings\n",
    "warnings.filterwarnings('ignore')"
   ]
  },
  {
   "cell_type": "code",
   "execution_count": 2,
   "metadata": {
    "id": "Hsu5egUUqPg9"
   },
   "outputs": [],
   "source": [
    "%matplotlib inline\n",
    "%config InlineBackend.figure_format = 'retina'\n",
    "\n",
    "import time\n",
    "import numpy as np\n",
    "import matplotlib.pyplot as plt\n",
    "\n",
    "import tensorflow as tf\n"
   ]
  },
  {
   "cell_type": "code",
   "execution_count": 3,
   "metadata": {
    "colab": {
     "base_uri": "https://localhost:8080/",
     "height": 35
    },
    "id": "ppo4nrBq6hsy",
    "outputId": "8e8ced8a-14de-4a01-ad6e-9d27cf26c25f"
   },
   "outputs": [
    {
     "data": {
      "text/plain": [
       "'2.7.0'"
      ]
     },
     "execution_count": 3,
     "metadata": {},
     "output_type": "execute_result"
    }
   ],
   "source": [
    "tf.__version__"
   ]
  },
  {
   "cell_type": "code",
   "execution_count": 4,
   "metadata": {
    "id": "EdZ26U_ei_hK"
   },
   "outputs": [],
   "source": [
    "import logging\n",
    "logger = tf.get_logger()\n",
    "logger.setLevel(logging.ERROR)"
   ]
  },
  {
   "cell_type": "code",
   "execution_count": 5,
   "metadata": {
    "colab": {
     "base_uri": "https://localhost:8080/"
    },
    "id": "BqsrWYDKp4Fd",
    "outputId": "a0d597df-6c1e-45ab-f968-d1348443b427"
   },
   "outputs": [
    {
     "name": "stdout",
     "output_type": "stream",
     "text": [
      "Using:\n",
      "TensorFlow version: 2.7.0\n",
      "tf.keras version: 2.7.0\n",
      "GPU device not found. Running on CPU\n"
     ]
    }
   ],
   "source": [
    "print('Using:')\n",
    "print('TensorFlow version:', tf.__version__)\n",
    "print('tf.keras version:', tf.keras.__version__)\n",
    "print('Running on GPU' if tf.test.is_gpu_available() else 'GPU device not found. Running on CPU')"
   ]
  },
  {
   "cell_type": "markdown",
   "metadata": {
    "id": "dAe81nXoICzC"
   },
   "source": [
    "## Load the Dataset"
   ]
  },
  {
   "cell_type": "code",
   "execution_count": 6,
   "metadata": {
    "colab": {
     "base_uri": "https://localhost:8080/"
    },
    "id": "zZyFjGWR6dV_",
    "outputId": "5e6cca24-710a-49a8-b53a-9b88b3fd3a2e"
   },
   "outputs": [],
   "source": [
    "(train_images, train_labels), (test_images, test_labels) = tf.keras.datasets.fashion_mnist.load_data()"
   ]
  },
  {
   "cell_type": "code",
   "execution_count": 7,
   "metadata": {},
   "outputs": [],
   "source": [
    "train_images = train_images / 255.0\n",
    "test_images = test_images / 255.0"
   ]
  },
  {
   "cell_type": "code",
   "execution_count": 8,
   "metadata": {
    "id": "RLMJCpppq43U"
   },
   "outputs": [],
   "source": [
    "class_names = ['T-shirt/top', 'Trouser', 'Pullover', 'Dress', 'Coat', \n",
    "               'Sandal',      'Shirt',   'Sneaker',  'Bag',   'Ankle boot']"
   ]
  },
  {
   "cell_type": "markdown",
   "metadata": {
    "id": "ySQuJ-iPqNoR"
   },
   "source": [
    "## Build and Train the Model\n",
    "\n"
   ]
  },
  {
   "cell_type": "code",
   "execution_count": 9,
   "metadata": {
    "colab": {
     "base_uri": "https://localhost:8080/"
    },
    "id": "47Vnu0KJMqwc",
    "outputId": "164b1017-a8cd-44f2-ef63-aa4e82021ea8"
   },
   "outputs": [
    {
     "name": "stdout",
     "output_type": "stream",
     "text": [
      "Model: \"sequential\"\n",
      "_________________________________________________________________\n",
      " Layer (type)                Output Shape              Param #   \n",
      "=================================================================\n",
      " flatten (Flatten)           (None, 784)               0         \n",
      "                                                                 \n",
      " dense (Dense)               (None, 128)               100480    \n",
      "                                                                 \n",
      " dense_1 (Dense)             (None, 10)                1290      \n",
      "                                                                 \n",
      "=================================================================\n",
      "Total params: 101,770\n",
      "Trainable params: 101,770\n",
      "Non-trainable params: 0\n",
      "_________________________________________________________________\n"
     ]
    }
   ],
   "source": [
    "model = tf.keras.Sequential([\n",
    "    tf.keras.layers.Flatten(input_shape=(28, 28)),\n",
    "    tf.keras.layers.Dense(128, activation='relu'),\n",
    "    tf.keras.layers.Dense(10)\n",
    "])\n",
    "\n",
    "model.summary()"
   ]
  },
  {
   "cell_type": "code",
   "execution_count": 10,
   "metadata": {
    "colab": {
     "base_uri": "https://localhost:8080/"
    },
    "id": "1qLJ-cAwnmFD",
    "outputId": "2fbfad54-c950-4608-f66d-2f0098d49df6"
   },
   "outputs": [],
   "source": [
    "model.compile(optimizer='adam',\n",
    "              loss='sparse_categorical_crossentropy',\n",
    "              metrics=['accuracy'])"
   ]
  },
  {
   "cell_type": "code",
   "execution_count": 11,
   "metadata": {
    "colab": {
     "base_uri": "https://localhost:8080/"
    },
    "id": "1qLJ-cAwnmFD",
    "outputId": "2fbfad54-c950-4608-f66d-2f0098d49df6"
   },
   "outputs": [
    {
     "name": "stdout",
     "output_type": "stream",
     "text": [
      "Epoch 1/5\n",
      "1875/1875 [==============================] - 2s 788us/step - loss: 2.2771 - accuracy: 0.3060\n",
      "Epoch 2/5\n",
      "1875/1875 [==============================] - 1s 775us/step - loss: 2.3024 - accuracy: 0.2674\n",
      "Epoch 3/5\n",
      "1875/1875 [==============================] - 1s 785us/step - loss: 2.3024 - accuracy: 0.2674\n",
      "Epoch 4/5\n",
      "1875/1875 [==============================] - 1s 780us/step - loss: 2.3024 - accuracy: 0.2674\n",
      "Epoch 5/5\n",
      "1875/1875 [==============================] - 1s 777us/step - loss: 2.3024 - accuracy: 0.2674\n"
     ]
    },
    {
     "data": {
      "text/plain": [
       "<keras.callbacks.History at 0x21b6c355d30>"
      ]
     },
     "execution_count": 11,
     "metadata": {},
     "output_type": "execute_result"
    }
   ],
   "source": [
    "model.fit(train_images, train_labels, epochs=5)"
   ]
  },
  {
   "cell_type": "code",
   "execution_count": 12,
   "metadata": {},
   "outputs": [
    {
     "name": "stdout",
     "output_type": "stream",
     "text": [
      "313/313 - 0s - loss: 2.3026 - accuracy: 0.2560 - 279ms/epoch - 891us/step\n",
      "\n",
      "Test accuracy: 0.25600001215934753\n"
     ]
    }
   ],
   "source": [
    "test_loss, test_acc = model.evaluate(test_images,  test_labels, verbose=2)\n",
    "\n",
    "print('\\nTest accuracy:', test_acc)"
   ]
  },
  {
   "cell_type": "markdown",
   "metadata": {
    "id": "jseIvfe2xb56"
   },
   "source": [
    "## Saving and Loading Models\n",
    "\n",
    "TensorFlow 에서는 모형을 2가지 형태로 저장할 수 있다. 하나는 TensorFlow의 SavedModel format 이고 다른 하나는 HDF5 files format으로 Keras models type 이다.\n",
    "\n",
    "### Saving and Loading Models in HDF5 Format\n",
    "\n",
    " `.save(filepath)` method를 사용하여 모형을 저장한다. 예를 들면 다음과 같다.\n",
    "\n",
    "```python\n",
    "my_model.save('./test_model.h5')\n",
    "```\n",
    "\n",
    "파일의 확장자는 반드시 `.h5` 으로 한다. \n",
    "\n",
    " HDF5 file 은 다음과 같은 내용을 저장한다.:\n",
    "\n",
    "* model의 구조.\n",
    "* model의 weight values\n",
    "* model의 훈련과 관련된 설정 `compile` method의 parameter값.\n",
    "* optimizer에 대한 정보\n",
    "\n",
    "\n",
    "기본적으로 `.save()` method는 에러 없이 기존의 파일을 덮어쓰기 한다.`overwrite=False` 을 설정하면 파일 덮어쓰기 전에 prompt한다."
   ]
  },
  {
   "cell_type": "code",
   "execution_count": 13,
   "metadata": {
    "id": "G1dOvNRvrhNa"
   },
   "outputs": [],
   "source": [
    "t = time.time()\n",
    "\n",
    "saved_keras_model_filepath = './{}.h5'.format(int(t))\n",
    "\n",
    "model.save(saved_keras_model_filepath)"
   ]
  },
  {
   "cell_type": "markdown",
   "metadata": {
    "id": "lGNRBb1puSRg"
   },
   "source": [
    "일단 저장된 모형은 `tf.keras.models.load_model(filepath)` 을 통해 불러들인다. "
   ]
  },
  {
   "cell_type": "code",
   "execution_count": 14,
   "metadata": {
    "colab": {
     "base_uri": "https://localhost:8080/"
    },
    "id": "akaAVE2js5d0",
    "outputId": "99db018a-b732-4358-a14e-741b4a61bdbe"
   },
   "outputs": [
    {
     "name": "stdout",
     "output_type": "stream",
     "text": [
      "Model: \"sequential\"\n",
      "_________________________________________________________________\n",
      " Layer (type)                Output Shape              Param #   \n",
      "=================================================================\n",
      " flatten (Flatten)           (None, 784)               0         \n",
      "                                                                 \n",
      " dense (Dense)               (None, 128)               100480    \n",
      "                                                                 \n",
      " dense_1 (Dense)             (None, 10)                1290      \n",
      "                                                                 \n",
      "=================================================================\n",
      "Total params: 101,770\n",
      "Trainable params: 101,770\n",
      "Non-trainable params: 0\n",
      "_________________________________________________________________\n"
     ]
    }
   ],
   "source": [
    "reloaded_keras_model = tf.keras.models.load_model(saved_keras_model_filepath)\n",
    "\n",
    "reloaded_keras_model.summary()"
   ]
  },
  {
   "cell_type": "markdown",
   "metadata": {
    "id": "xWihP1oMjNeF"
   },
   "source": [
    "`reloaded_keras_model`은 원래 `model` 과 같은 복사본이 된다. 다음과 같은 명령어로 Prediction 을 수행할 수 있다."
   ]
  },
  {
   "cell_type": "code",
   "execution_count": 15,
   "metadata": {
    "colab": {
     "base_uri": "https://localhost:8080/"
    },
    "id": "gLQsw7QVkElc",
    "outputId": "0feaf6f0-ccf4-45c5-b5b9-a487cbf5501c"
   },
   "outputs": [],
   "source": [
    "prediction = model.predict(test_images)"
   ]
  },
  {
   "cell_type": "markdown",
   "metadata": {
    "id": "lxHdz18pQUNV"
   },
   "source": [
    "### Saving and Loading TensorFlow SavedModels\n",
    "\n",
    "`model.save('my_model')`을 호출하면 다음을 포함하는 my_model 폴더를 생성한다.\n",
    "\n",
    "```\n",
    "$ ls my_model\n",
    "assets  saved_model.pb  variables\n",
    "```\n",
    "\n",
    "모델 아키텍처 및 훈련 구성(옵티마이저, 손실 및 메트릭 포함)은 saved_model.pb에 저장된다. 가중치는 variables/ 디렉토리에 저장된다.\n"
   ]
  },
  {
   "cell_type": "code",
   "execution_count": 16,
   "metadata": {
    "id": "e6Nn8EZM9SIJ"
   },
   "outputs": [],
   "source": [
    "model.save(\"my_model\")"
   ]
  },
  {
   "cell_type": "code",
   "execution_count": 17,
   "metadata": {
    "id": "Wp-iGBbU9plp"
   },
   "outputs": [],
   "source": [
    "reconstructed_model = tf.keras.models.load_model(\"my_model\")"
   ]
  },
  {
   "cell_type": "code",
   "execution_count": 18,
   "metadata": {},
   "outputs": [
    {
     "name": "stdout",
     "output_type": "stream",
     "text": [
      "Model: \"sequential\"\n",
      "_________________________________________________________________\n",
      " Layer (type)                Output Shape              Param #   \n",
      "=================================================================\n",
      " flatten (Flatten)           (None, 784)               0         \n",
      "                                                                 \n",
      " dense (Dense)               (None, 128)               100480    \n",
      "                                                                 \n",
      " dense_1 (Dense)             (None, 10)                1290      \n",
      "                                                                 \n",
      "=================================================================\n",
      "Total params: 101,770\n",
      "Trainable params: 101,770\n",
      "Non-trainable params: 0\n",
      "_________________________________________________________________\n"
     ]
    }
   ],
   "source": [
    "reconstructed_model.summary()"
   ]
  },
  {
   "cell_type": "markdown",
   "metadata": {
    "id": "FomAlrxnQnm8"
   },
   "source": [
    "## Saving Models During Training\n",
    "\n",
    "\n",
    "훈련중에 validation loss는 훈련이 잘 진행되는지 확인할 수 있는 지표 역할을 한다. overfitting이 일어나지 않는 최적 validation loss의 모형을 저장할 수 있다. \n",
    "\n",
    "`tf.keras` 에서 다음과 같은 callback을 사용한다:\n",
    "\n",
    "```python\n",
    "tf.keras.callbacks.ModelCheckpoint('./best_model.h5', monitor='val_loss', save_best_only=True)\n",
    "```\n",
    "\n",
    "위의 callback은 매 epoch마다 Keras HDF5 file로 저장한다. `save_best_only=True` argument을 주면, 가장 최적의 모형만을 저장한다."
   ]
  },
  {
   "cell_type": "code",
   "execution_count": 19,
   "metadata": {
    "colab": {
     "base_uri": "https://localhost:8080/",
     "height": 765
    },
    "id": "vvsuAeUQ1WKR",
    "outputId": "b8ee7834-f46e-4141-d61c-83cd7d72a333"
   },
   "outputs": [],
   "source": [
    "model = tf.keras.Sequential([\n",
    "        tf.keras.layers.Flatten(input_shape=(28,28,1)),\n",
    "        tf.keras.layers.Dense(256, activation = 'relu'),\n",
    "        tf.keras.layers.Dense(128, activation = 'relu'),\n",
    "        tf.keras.layers.Dense(64, activation = 'relu'),\n",
    "        tf.keras.layers.Dense(10, activation = 'softmax')\n",
    "])\n",
    "\n",
    "model.compile(optimizer='adam',\n",
    "              loss='sparse_categorical_crossentropy',\n",
    "              metrics=['accuracy'])\n",
    "\n",
    "# Stop training when there is no improvement in the validation loss for 10 consecutive epochs\n",
    "early_stopping = tf.keras.callbacks.EarlyStopping(monitor='val_loss', patience=5)"
   ]
  },
  {
   "cell_type": "code",
   "execution_count": 20,
   "metadata": {
    "colab": {
     "base_uri": "https://localhost:8080/",
     "height": 765
    },
    "id": "vvsuAeUQ1WKR",
    "outputId": "b8ee7834-f46e-4141-d61c-83cd7d72a333"
   },
   "outputs": [],
   "source": [
    "# Save the Model with the lowest validation loss\n",
    "save_best = tf.keras.callbacks.ModelCheckpoint('./best_model.h5',\n",
    "                                               monitor='val_loss',\n",
    "                                               save_best_only=True)"
   ]
  },
  {
   "cell_type": "code",
   "execution_count": 21,
   "metadata": {
    "colab": {
     "base_uri": "https://localhost:8080/",
     "height": 765
    },
    "id": "vvsuAeUQ1WKR",
    "outputId": "b8ee7834-f46e-4141-d61c-83cd7d72a333"
   },
   "outputs": [
    {
     "name": "stdout",
     "output_type": "stream",
     "text": [
      "Epoch 1/100\n",
      "1313/1313 [==============================] - 2s 2ms/step - loss: 0.5202 - accuracy: 0.8142 - val_loss: 0.3998 - val_accuracy: 0.8563\n",
      "Epoch 2/100\n",
      "1313/1313 [==============================] - 2s 1ms/step - loss: 0.3845 - accuracy: 0.8585 - val_loss: 0.3787 - val_accuracy: 0.8583\n",
      "Epoch 3/100\n",
      "1313/1313 [==============================] - 2s 1ms/step - loss: 0.3406 - accuracy: 0.8744 - val_loss: 0.3669 - val_accuracy: 0.8663\n",
      "Epoch 4/100\n",
      "1313/1313 [==============================] - 2s 1ms/step - loss: 0.3201 - accuracy: 0.8830 - val_loss: 0.3779 - val_accuracy: 0.8598\n",
      "Epoch 5/100\n",
      "1313/1313 [==============================] - 2s 1ms/step - loss: 0.3002 - accuracy: 0.8892 - val_loss: 0.3366 - val_accuracy: 0.8788\n",
      "Epoch 6/100\n",
      "1313/1313 [==============================] - 2s 1ms/step - loss: 0.2814 - accuracy: 0.8923 - val_loss: 0.3392 - val_accuracy: 0.8748\n",
      "Epoch 7/100\n",
      "1313/1313 [==============================] - 2s 1ms/step - loss: 0.2701 - accuracy: 0.8987 - val_loss: 0.3361 - val_accuracy: 0.8806\n",
      "Epoch 8/100\n",
      "1313/1313 [==============================] - 2s 1ms/step - loss: 0.2555 - accuracy: 0.9041 - val_loss: 0.3567 - val_accuracy: 0.8763\n",
      "Epoch 9/100\n",
      "1313/1313 [==============================] - 2s 1ms/step - loss: 0.2497 - accuracy: 0.9065 - val_loss: 0.3449 - val_accuracy: 0.8794\n",
      "Epoch 10/100\n",
      "1313/1313 [==============================] - 2s 1ms/step - loss: 0.2379 - accuracy: 0.9098 - val_loss: 0.3272 - val_accuracy: 0.8849\n",
      "Epoch 11/100\n",
      "1313/1313 [==============================] - 2s 1ms/step - loss: 0.2303 - accuracy: 0.9111 - val_loss: 0.3437 - val_accuracy: 0.8881\n",
      "Epoch 12/100\n",
      "1313/1313 [==============================] - 2s 1ms/step - loss: 0.2168 - accuracy: 0.9173 - val_loss: 0.3909 - val_accuracy: 0.8761\n",
      "Epoch 13/100\n",
      "1313/1313 [==============================] - 2s 1ms/step - loss: 0.2128 - accuracy: 0.9182 - val_loss: 0.3238 - val_accuracy: 0.8871\n",
      "Epoch 14/100\n",
      "1313/1313 [==============================] - 2s 1ms/step - loss: 0.2027 - accuracy: 0.9238 - val_loss: 0.3430 - val_accuracy: 0.8866\n",
      "Epoch 15/100\n",
      "1313/1313 [==============================] - 2s 1ms/step - loss: 0.2015 - accuracy: 0.9235 - val_loss: 0.3383 - val_accuracy: 0.8908\n",
      "Epoch 16/100\n",
      "1313/1313 [==============================] - 2s 1ms/step - loss: 0.1942 - accuracy: 0.9255 - val_loss: 0.3318 - val_accuracy: 0.8936\n",
      "Epoch 17/100\n",
      "1313/1313 [==============================] - 2s 1ms/step - loss: 0.1845 - accuracy: 0.9288 - val_loss: 0.3396 - val_accuracy: 0.8955\n",
      "Epoch 18/100\n",
      "1313/1313 [==============================] - 2s 1ms/step - loss: 0.1800 - accuracy: 0.9305 - val_loss: 0.3461 - val_accuracy: 0.8922\n"
     ]
    }
   ],
   "source": [
    "history = model.fit(train_images, train_labels,\n",
    "                    epochs = 100,\n",
    "                    validation_split=0.3,\n",
    "                    callbacks=[early_stopping, save_best])"
   ]
  },
  {
   "cell_type": "code",
   "execution_count": null,
   "metadata": {
    "id": "sz4snGQsR2Mg"
   },
   "outputs": [],
   "source": []
  }
 ],
 "metadata": {
  "accelerator": "GPU",
  "colab": {
   "collapsed_sections": [],
   "name": "Part 6 - Saving and Loading Models.ipynb",
   "provenance": [],
   "toc_visible": true
  },
  "kernelspec": {
   "display_name": "Python 3 (ipykernel)",
   "language": "python",
   "name": "python3"
  },
  "language_info": {
   "codemirror_mode": {
    "name": "ipython",
    "version": 3
   },
   "file_extension": ".py",
   "mimetype": "text/x-python",
   "name": "python",
   "nbconvert_exporter": "python",
   "pygments_lexer": "ipython3",
   "version": "3.9.12"
  }
 },
 "nbformat": 4,
 "nbformat_minor": 1
}
