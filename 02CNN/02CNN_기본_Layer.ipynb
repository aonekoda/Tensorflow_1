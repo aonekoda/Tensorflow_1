{
 "cells": [
  {
   "cell_type": "markdown",
   "metadata": {
    "colab_type": "text",
    "id": "SkqWxXrI3115"
   },
   "source": [
    "# Layer Explaination"
   ]
  },
  {
   "cell_type": "code",
   "execution_count": 28,
   "metadata": {
    "colab": {
     "base_uri": "https://localhost:8080/",
     "height": 52
    },
    "colab_type": "code",
    "executionInfo": {
     "elapsed": 7172,
     "status": "ok",
     "timestamp": 1573969226083,
     "user": {
      "displayName": "이선화",
      "photoUrl": "https://lh3.googleusercontent.com/a-/AAuE7mAaVHDHE1MIY1LHmJ_yWOBQMBjk_0EAJ4f0eWo-=s64",
      "userId": "17814374716323603424"
     },
     "user_tz": -540
    },
    "id": "hrkNvY-E3118",
    "outputId": "e1ee61c3-7c3b-4fa1-e876-9beff2ee8941"
   },
   "outputs": [
    {
     "name": "stdout",
     "output_type": "stream",
     "text": [
      "2.7.0\n"
     ]
    }
   ],
   "source": [
    "import tensorflow as tf\n",
    "print(tf.__version__)"
   ]
  },
  {
   "cell_type": "markdown",
   "metadata": {
    "colab_type": "text",
    "id": "H6b49VgD312A"
   },
   "source": [
    "## Input Image  \n",
    "Input으로 들어갈 DataSet을 들여다보면서 시각화까지"
   ]
  },
  {
   "cell_type": "markdown",
   "metadata": {
    "colab_type": "text",
    "id": "Y-pewNGl312B"
   },
   "source": [
    "패키지 로드  \n",
    "- os\n",
    "- glob\n",
    "- matplotlib"
   ]
  },
  {
   "cell_type": "code",
   "execution_count": 2,
   "metadata": {
    "colab": {},
    "colab_type": "code",
    "id": "HitRKryz312B"
   },
   "outputs": [],
   "source": [
    "import os\n",
    "\n",
    "import matplotlib.pyplot as plt\n",
    "%matplotlib inline"
   ]
  },
  {
   "cell_type": "code",
   "execution_count": 3,
   "metadata": {
    "colab": {
     "base_uri": "https://localhost:8080/",
     "height": 52
    },
    "colab_type": "code",
    "executionInfo": {
     "elapsed": 6452,
     "status": "ok",
     "timestamp": 1573969240714,
     "user": {
      "displayName": "이선화",
      "photoUrl": "https://lh3.googleusercontent.com/a-/AAuE7mAaVHDHE1MIY1LHmJ_yWOBQMBjk_0EAJ4f0eWo-=s64",
      "userId": "17814374716323603424"
     },
     "user_tz": -540
    },
    "id": "j1LdiWDP312E",
    "outputId": "8acbe8e8-e5d6-4017-ccc5-44b071c697bb"
   },
   "outputs": [],
   "source": [
    "from tensorflow.keras import datasets\n",
    "\n",
    "(train_x, train_y), (test_x, test_y) = datasets.mnist.load_data()"
   ]
  },
  {
   "cell_type": "code",
   "execution_count": 4,
   "metadata": {
    "colab": {},
    "colab_type": "code",
    "id": "u_HrycEM312G"
   },
   "outputs": [],
   "source": [
    "image = train_x[0]"
   ]
  },
  {
   "cell_type": "markdown",
   "metadata": {
    "colab_type": "text",
    "id": "1SimQ7LD312J"
   },
   "source": [
    "이미지의 shape을 확인한다."
   ]
  },
  {
   "cell_type": "code",
   "execution_count": 5,
   "metadata": {
    "colab": {
     "base_uri": "https://localhost:8080/",
     "height": 34
    },
    "colab_type": "code",
    "executionInfo": {
     "elapsed": 797,
     "status": "ok",
     "timestamp": 1573969280193,
     "user": {
      "displayName": "이선화",
      "photoUrl": "https://lh3.googleusercontent.com/a-/AAuE7mAaVHDHE1MIY1LHmJ_yWOBQMBjk_0EAJ4f0eWo-=s64",
      "userId": "17814374716323603424"
     },
     "user_tz": -540
    },
    "id": "5XeWwW54312K",
    "outputId": "d908b0f7-c3e4-49ca-b92f-363fd313f238"
   },
   "outputs": [
    {
     "data": {
      "text/plain": [
       "(28, 28)"
      ]
     },
     "execution_count": 5,
     "metadata": {},
     "output_type": "execute_result"
    }
   ],
   "source": [
    "# 이미지 shape 확인\n",
    "image.shape"
   ]
  },
  {
   "cell_type": "code",
   "execution_count": 6,
   "metadata": {
    "colab": {
     "base_uri": "https://localhost:8080/",
     "height": 34
    },
    "colab_type": "code",
    "executionInfo": {
     "elapsed": 806,
     "status": "ok",
     "timestamp": 1573969282478,
     "user": {
      "displayName": "이선화",
      "photoUrl": "https://lh3.googleusercontent.com/a-/AAuE7mAaVHDHE1MIY1LHmJ_yWOBQMBjk_0EAJ4f0eWo-=s64",
      "userId": "17814374716323603424"
     },
     "user_tz": -540
    },
    "id": "M64z7iYk312P",
    "outputId": "cb64150c-7859-4200-8743-948117ab8ae0"
   },
   "outputs": [
    {
     "data": {
      "text/plain": [
       "(1, 28, 28, 1)"
      ]
     },
     "execution_count": 6,
     "metadata": {},
     "output_type": "execute_result"
    }
   ],
   "source": [
    "# 차원 수 높이기 \n",
    "# batch_size, width, height, channel\n",
    "image = image[tf.newaxis, ..., tf.newaxis]\n",
    "image.shape"
   ]
  },
  {
   "cell_type": "markdown",
   "metadata": {
    "colab_type": "text",
    "id": "vko1MeGc312R"
   },
   "source": [
    "# Feature Extraction"
   ]
  },
  {
   "cell_type": "markdown",
   "metadata": {
    "colab_type": "text",
    "id": "RqNEmYG2312S"
   },
   "source": [
    "![image.png](../assets/CNN_1.jpg)"
   ]
  },
  {
   "cell_type": "markdown",
   "metadata": {
    "colab_type": "text",
    "id": "88_F88uI312T"
   },
   "source": [
    "## Convolution"
   ]
  },
  {
   "cell_type": "markdown",
   "metadata": {
    "colab_type": "text",
    "id": "NqJ0UXOe312T"
   },
   "source": [
    "![image.png](../assets/CNN_2.gif)\n",
    "\n",
    "![IMG](../assets/CNN_3.jpg)"
   ]
  },
  {
   "cell_type": "markdown",
   "metadata": {
    "colab_type": "text",
    "id": "Gft_Kgbz312U"
   },
   "source": [
    "* filters: layer에서 나갈 때 몇 개의 filter를 만들 것인지 (a.k.a weights, filters, channels)  \n",
    "* kernel_size: filter(Weight)의 사이즈  \n",
    "* strides: 몇 개의 pixel을 skip 하면서 훑어지나갈 것인지 (사이즈에도 영향을 줌)  \n",
    "* padding: zero padding을 만들 것인지. VALID는 Padding이 없고, SAME은 Padding이 있음 (사이즈에도 영향을 줌)  \n",
    "* activation: Activation Function을 만들것인지. 당장 설정 안해도 Layer층을 따로 만들 수 있음"
   ]
  },
  {
   "cell_type": "code",
   "execution_count": 7,
   "metadata": {
    "colab": {
     "base_uri": "https://localhost:8080/",
     "height": 34
    },
    "colab_type": "code",
    "executionInfo": {
     "elapsed": 810,
     "status": "ok",
     "timestamp": 1573969651750,
     "user": {
      "displayName": "이선화",
      "photoUrl": "https://lh3.googleusercontent.com/a-/AAuE7mAaVHDHE1MIY1LHmJ_yWOBQMBjk_0EAJ4f0eWo-=s64",
      "userId": "17814374716323603424"
     },
     "user_tz": -540
    },
    "id": "HhX_uhFZ312V",
    "outputId": "74172fa7-5af8-44ef-e58a-d5cc9523888d"
   },
   "outputs": [
    {
     "data": {
      "text/plain": [
       "<keras.layers.convolutional.Conv2D at 0x230f99f7b80>"
      ]
     },
     "execution_count": 7,
     "metadata": {},
     "output_type": "execute_result"
    }
   ],
   "source": [
    "tf.keras.layers.Conv2D(filters=1, kernel_size=(3, 3), strides=(1, 1), \n",
    "                       padding='VALID', activation='relu')"
   ]
  },
  {
   "cell_type": "markdown",
   "metadata": {
    "colab_type": "text",
    "id": "H4yPhtHv312Y"
   },
   "source": [
    "(3, 3) 대신에 3으로도 대체 가능"
   ]
  },
  {
   "cell_type": "code",
   "execution_count": 8,
   "metadata": {
    "colab": {
     "base_uri": "https://localhost:8080/",
     "height": 34
    },
    "colab_type": "code",
    "executionInfo": {
     "elapsed": 823,
     "status": "ok",
     "timestamp": 1573969661529,
     "user": {
      "displayName": "이선화",
      "photoUrl": "https://lh3.googleusercontent.com/a-/AAuE7mAaVHDHE1MIY1LHmJ_yWOBQMBjk_0EAJ4f0eWo-=s64",
      "userId": "17814374716323603424"
     },
     "user_tz": -540
    },
    "id": "yhWfnHQ2312Z",
    "outputId": "d73456ca-ed93-4dfe-b46b-41406ed32aad"
   },
   "outputs": [
    {
     "data": {
      "text/plain": [
       "<keras.layers.convolutional.Conv2D at 0x230fced1310>"
      ]
     },
     "execution_count": 8,
     "metadata": {},
     "output_type": "execute_result"
    }
   ],
   "source": [
    "tf.keras.layers.Conv2D(filters=1, kernel_size=3, strides=(1, 1), padding='VALID', activation='relu')"
   ]
  },
  {
   "cell_type": "markdown",
   "metadata": {
    "colab_type": "text",
    "id": "CU2syId_312b"
   },
   "source": [
    "### Visualization"
   ]
  },
  {
   "cell_type": "markdown",
   "metadata": {
    "colab_type": "text",
    "id": "ruQy2EzK312c"
   },
   "source": [
    "- tf.keras.layers.Conv2D"
   ]
  },
  {
   "cell_type": "code",
   "execution_count": 9,
   "metadata": {
    "colab": {},
    "colab_type": "code",
    "id": "sSzRskDl312c"
   },
   "outputs": [],
   "source": [
    "image = tf.cast(image, dtype=tf.float32)"
   ]
  },
  {
   "cell_type": "code",
   "execution_count": 25,
   "metadata": {
    "colab": {},
    "colab_type": "code",
    "id": "6hDBTNms312f"
   },
   "outputs": [],
   "source": [
    "layer = tf.keras.layers.Conv2D(1, 3, strides=(2,2), padding='same')\n",
    "output = layer(image)"
   ]
  },
  {
   "cell_type": "code",
   "execution_count": 26,
   "metadata": {},
   "outputs": [
    {
     "data": {
      "text/plain": [
       "TensorShape([1, 28, 28, 1])"
      ]
     },
     "execution_count": 26,
     "metadata": {},
     "output_type": "execute_result"
    }
   ],
   "source": [
    "image.shape"
   ]
  },
  {
   "cell_type": "code",
   "execution_count": 27,
   "metadata": {},
   "outputs": [
    {
     "data": {
      "text/plain": [
       "TensorShape([1, 14, 14, 1])"
      ]
     },
     "execution_count": 27,
     "metadata": {},
     "output_type": "execute_result"
    }
   ],
   "source": [
    "output.shape"
   ]
  },
  {
   "cell_type": "markdown",
   "metadata": {
    "colab_type": "text",
    "id": "FAWUCibK312h"
   },
   "source": [
    "weight 불러오기\n",
    "\n",
    "- layer.get_weights()"
   ]
  },
  {
   "cell_type": "code",
   "execution_count": 11,
   "metadata": {
    "colab": {
     "base_uri": "https://localhost:8080/",
     "height": 310
    },
    "colab_type": "code",
    "executionInfo": {
     "elapsed": 1543,
     "status": "ok",
     "timestamp": 1573969783233,
     "user": {
      "displayName": "이선화",
      "photoUrl": "https://lh3.googleusercontent.com/a-/AAuE7mAaVHDHE1MIY1LHmJ_yWOBQMBjk_0EAJ4f0eWo-=s64",
      "userId": "17814374716323603424"
     },
     "user_tz": -540
    },
    "id": "8Tce0Z14312i",
    "outputId": "961d855f-7047-4512-d365-6b58fecfff45"
   },
   "outputs": [
    {
     "data": {
      "image/png": "[encoded data removed]",
      "text/plain": [
       "<Figure size 1080x360 with 4 Axes>"
      ]
     },
     "metadata": {
      "needs_background": "light"
     },
     "output_type": "display_data"
    }
   ],
   "source": [
    "weight = layer.get_weights()[0]\n",
    "\n",
    "plt.figure(figsize=(15, 5))\n",
    "plt.subplot(131)\n",
    "#plt.hist(output.numpy().ravel(), range=[-2,2])\n",
    "#plt.ylim(0, 500)\n",
    "plt.imshow(image[0,:,:,0], 'gray')\n",
    "\n",
    "plt.subplot(132)\n",
    "plt.title(weight.shape)\n",
    "plt.imshow(weight[:,:,0,0], 'gray')\n",
    "\n",
    "plt.subplot(133)\n",
    "plt.title(output.shape)\n",
    "plt.imshow(output[0, :, :, 0], 'gray')\n",
    "plt.colorbar()\n",
    "\n",
    "plt.show()"
   ]
  },
  {
   "cell_type": "markdown",
   "metadata": {
    "colab_type": "text",
    "id": "hJK2jswk312l"
   },
   "source": [
    "## Activation Function"
   ]
  },
  {
   "cell_type": "code",
   "execution_count": 12,
   "metadata": {
    "colab": {},
    "colab_type": "code",
    "id": "apVRhbPw312m"
   },
   "outputs": [],
   "source": [
    "# out = tf.keras.layers.Conv2D(3, 3, strides=(1, 1), padding='SAME')(out)\n",
    "layer = tf.keras.layers.ReLU()\n",
    "output_relu = layer(output)"
   ]
  },
  {
   "cell_type": "code",
   "execution_count": 13,
   "metadata": {
    "colab": {
     "base_uri": "https://localhost:8080/",
     "height": 336
    },
    "colab_type": "code",
    "executionInfo": {
     "elapsed": 1110,
     "status": "ok",
     "timestamp": 1573969874754,
     "user": {
      "displayName": "이선화",
      "photoUrl": "https://lh3.googleusercontent.com/a-/AAuE7mAaVHDHE1MIY1LHmJ_yWOBQMBjk_0EAJ4f0eWo-=s64",
      "userId": "17814374716323603424"
     },
     "user_tz": -540
    },
    "id": "9X_H7EFo312p",
    "outputId": "d03d5c3a-c014-45cb-ef0e-356c6d0ff118",
    "scrolled": true
   },
   "outputs": [
    {
     "data": {
      "image/png": "[encoded data removed]",
      "text/plain": [
       "<Figure size 1080x360 with 4 Axes>"
      ]
     },
     "metadata": {
      "needs_background": "light"
     },
     "output_type": "display_data"
    }
   ],
   "source": [
    "plt.figure(figsize=(15, 5))\n",
    "plt.subplot(121)\n",
    "plt.title(output.shape)\n",
    "plt.imshow(output[0, :, :, 0], 'gray')\n",
    "plt.colorbar()\n",
    "\n",
    "plt.subplot(122)\n",
    "plt.title(output_relu.shape)\n",
    "plt.imshow(output_relu[0, :, :, 0], 'gray')\n",
    "plt.colorbar()\n",
    "plt.show()"
   ]
  },
  {
   "cell_type": "markdown",
   "metadata": {
    "colab_type": "text",
    "id": "DzDKPFvk312v"
   },
   "source": [
    "## Pooling"
   ]
  },
  {
   "cell_type": "markdown",
   "metadata": {
    "colab_type": "text",
    "id": "87IZFw9h312v"
   },
   "source": [
    "![image.png](https://miro.medium.com/max/707/1*UbjtZxhx5Z1HEsW-49cDeQ.jpeg)"
   ]
  },
  {
   "cell_type": "markdown",
   "metadata": {
    "colab_type": "text",
    "id": "V8g2tTbb312w"
   },
   "source": [
    "- tf.keras.layers.MaxPool2D"
   ]
  },
  {
   "cell_type": "code",
   "execution_count": 14,
   "metadata": {
    "colab": {
     "base_uri": "https://localhost:8080/",
     "height": 34
    },
    "colab_type": "code",
    "executionInfo": {
     "elapsed": 793,
     "status": "ok",
     "timestamp": 1573969914950,
     "user": {
      "displayName": "이선화",
      "photoUrl": "https://lh3.googleusercontent.com/a-/AAuE7mAaVHDHE1MIY1LHmJ_yWOBQMBjk_0EAJ4f0eWo-=s64",
      "userId": "17814374716323603424"
     },
     "user_tz": -540
    },
    "id": "smiGwBmX312x",
    "outputId": "a750ee26-cb49-4c00-8cef-63b758f43565"
   },
   "outputs": [
    {
     "data": {
      "text/plain": [
       "<keras.layers.pooling.MaxPooling2D at 0x1fb07751700>"
      ]
     },
     "execution_count": 14,
     "metadata": {},
     "output_type": "execute_result"
    }
   ],
   "source": [
    "tf.keras.layers.MaxPool2D(pool_size=(2, 2), strides=(2, 2), padding='SAME')"
   ]
  },
  {
   "cell_type": "code",
   "execution_count": 15,
   "metadata": {
    "colab": {},
    "colab_type": "code",
    "id": "1mEHarIc312z"
   },
   "outputs": [],
   "source": [
    "layer = tf.keras.layers.MaxPool2D(pool_size=(2, 2), strides=(2, 2), padding='SAME')\n",
    "output_pool = layer(output_relu)"
   ]
  },
  {
   "cell_type": "code",
   "execution_count": 16,
   "metadata": {
    "colab": {
     "base_uri": "https://localhost:8080/",
     "height": 336
    },
    "colab_type": "code",
    "executionInfo": {
     "elapsed": 1692,
     "status": "ok",
     "timestamp": 1573970021446,
     "user": {
      "displayName": "이선화",
      "photoUrl": "https://lh3.googleusercontent.com/a-/AAuE7mAaVHDHE1MIY1LHmJ_yWOBQMBjk_0EAJ4f0eWo-=s64",
      "userId": "17814374716323603424"
     },
     "user_tz": -540
    },
    "id": "9kbfc5pN3124",
    "outputId": "e20cf883-3156-4a25-fb0f-091af7d5739a"
   },
   "outputs": [
    {
     "data": {
      "image/png": "[encoded data removed]",
      "text/plain": [
       "<Figure size 1080x360 with 4 Axes>"
      ]
     },
     "metadata": {
      "needs_background": "light"
     },
     "output_type": "display_data"
    }
   ],
   "source": [
    "plt.figure(figsize=(15, 5))\n",
    "plt.subplot(121)\n",
    "plt.title(output_relu.shape)\n",
    "plt.imshow(output_relu[0, :, :, 0], 'gray')\n",
    "plt.colorbar()\n",
    "\n",
    "plt.subplot(122)\n",
    "plt.title(output_pool.shape)\n",
    "plt.imshow(output_pool[0, :, :, 0], 'gray')\n",
    "plt.colorbar()\n",
    "plt.show()"
   ]
  },
  {
   "cell_type": "markdown",
   "metadata": {
    "colab_type": "text",
    "id": "0JI9IK1l313B"
   },
   "source": [
    "# Fully Connected"
   ]
  },
  {
   "cell_type": "markdown",
   "metadata": {
    "colab_type": "text",
    "id": "5SsAvcqC313B"
   },
   "source": [
    "![image.png](https://miro.medium.com/max/872/1*vDRsPt3ooEI2HOXaRGp39Q.jpeg)"
   ]
  },
  {
   "cell_type": "markdown",
   "metadata": {
    "colab_type": "text",
    "id": "eYKPY7hL313C"
   },
   "source": [
    "## Flatten"
   ]
  },
  {
   "cell_type": "markdown",
   "metadata": {
    "colab_type": "text",
    "id": "MsYG7Ztm313D"
   },
   "source": [
    "![image.png](https://sds-platform-private.s3-us-east-2.amazonaws.com/uploads/73_blog_image_1.png)"
   ]
  },
  {
   "cell_type": "markdown",
   "metadata": {
    "colab_type": "text",
    "id": "OkxC3i63313F"
   },
   "source": [
    "- tf.keras.layers.Flatten()"
   ]
  },
  {
   "cell_type": "code",
   "execution_count": 17,
   "metadata": {
    "colab": {
     "base_uri": "https://localhost:8080/",
     "height": 34
    },
    "colab_type": "code",
    "executionInfo": {
     "elapsed": 945,
     "status": "ok",
     "timestamp": 1573970355895,
     "user": {
      "displayName": "이선화",
      "photoUrl": "https://lh3.googleusercontent.com/a-/AAuE7mAaVHDHE1MIY1LHmJ_yWOBQMBjk_0EAJ4f0eWo-=s64",
      "userId": "17814374716323603424"
     },
     "user_tz": -540
    },
    "id": "goRchKDc313F",
    "outputId": "c1eb9482-365f-4903-ed31-17c39bd26522"
   },
   "outputs": [
    {
     "data": {
      "text/plain": [
       "<keras.layers.core.flatten.Flatten at 0x1fb084962b0>"
      ]
     },
     "execution_count": 17,
     "metadata": {},
     "output_type": "execute_result"
    }
   ],
   "source": [
    "tf.keras.layers.Flatten()"
   ]
  },
  {
   "cell_type": "code",
   "execution_count": 18,
   "metadata": {
    "colab": {
     "base_uri": "https://localhost:8080/",
     "height": 34
    },
    "colab_type": "code",
    "executionInfo": {
     "elapsed": 799,
     "status": "ok",
     "timestamp": 1573970416385,
     "user": {
      "displayName": "이선화",
      "photoUrl": "https://lh3.googleusercontent.com/a-/AAuE7mAaVHDHE1MIY1LHmJ_yWOBQMBjk_0EAJ4f0eWo-=s64",
      "userId": "17814374716323603424"
     },
     "user_tz": -540
    },
    "id": "rUlbpQVn313I",
    "outputId": "17963d87-e61f-41f6-8f97-896f4835fd4f"
   },
   "outputs": [
    {
     "name": "stdout",
     "output_type": "stream",
     "text": [
      "(1, 196)\n"
     ]
    }
   ],
   "source": [
    "layer = tf.keras.layers.Flatten()\n",
    "output_flatten = layer(output_pool)\n",
    "\n",
    "print(output_flatten.shape)  # 1 * 14 * 14 * 1 = 196"
   ]
  },
  {
   "cell_type": "code",
   "execution_count": null,
   "metadata": {},
   "outputs": [],
   "source": []
  }
 ],
 "metadata": {
  "colab": {
   "collapsed_sections": [],
   "name": "CNN_기본_Layer.ipynb",
   "provenance": []
  },
  "kernelspec": {
   "display_name": "Python 3 (ipykernel)",
   "language": "python",
   "name": "python3"
  },
  "language_info": {
   "codemirror_mode": {
    "name": "ipython",
    "version": 3
   },
   "file_extension": ".py",
   "mimetype": "text/x-python",
   "name": "python",
   "nbconvert_exporter": "python",
   "pygments_lexer": "ipython3",
   "version": "3.9.7"
  }
 },
 "nbformat": 4,
 "nbformat_minor": 1
}
